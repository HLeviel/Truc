{
 "cells": [
  {
   "cell_type": "markdown",
   "metadata": {},
   "source": [
    "# Presentation de Jupyter et des notebooks jupyter"
   ]
  },
  {
   "cell_type": "markdown",
   "metadata": {},
   "source": [
    "**Jupyter** est une application qui permet de créer des notebooks jupyter.    \n",
    "\n",
    "Les **notebooks** sont des documents qui contiennent du code et du texte, auquel on peut ajouter divers éléments comme des images, graphiques ou formules mathématiques.\n",
    "\n",
    "Ils permettent notamment de faire des analyses de données sous forme de présentations.  \n",
    "Les notebooks sont organisés en cellules qui peuvent être de 2 types : code ou markdown."
   ]
  },
  {
   "cell_type": "markdown",
   "metadata": {},
   "source": [
    "### Sommaire\n",
    "- Installation\n",
    "- Lancement des notebooks\n",
    "- Gestion des cellules\n",
    "- Cellules de code\n",
    "- Cellule de markdown\n",
    "- LaTex\n",
    "- Formats de sauvegarde"
   ]
  },
  {
   "cell_type": "markdown",
   "metadata": {},
   "source": [
    "## 1. Installation\n",
    "Jupyter est une application python, il faut donc installer python et jupyter, puis activer R sur jupyter :\n",
    "\n",
    "\n",
    "- Installation Python 3.7.X (cocher add to path)\n",
    "\n",
    "\n",
    "- Installation jupyter via de la console de commandes :\n",
    "    - Mettre à jour le module d'installation pip de python  \n",
    "    ``python -m pip install --upgrade pip``\n",
    "    - Installation de jupyter  \n",
    "    ``python -m pip install jupyter``\n",
    "    \n",
    "\n",
    "- Installation de R\n",
    "\n",
    "\n",
    "- Activation de R dans jupyter à partir de la console R :\n",
    "    - ``install.packages(c('IRkernel', 'repr', 'IRdisplay', 'evaluate', 'crayon', 'pbdZMQ', 'devtools', 'uuid', 'digest'))``\n",
    "    - ``IRkernel::installspec()`` pour l'utilisateur seul\n",
    "    - ``IRkernel::installspec(user = FALSE)`` pour tout le monde\n",
    "    \n",
    "\n",
    "Site du package **IRkernel** pour activation de R : https://irkernel.github.io  \n",
    "\n",
    "\n",
    "*Les packages complémentaires peuvent ne plus nécessaires avec les nouvelles versions*\n"
   ]
  },
  {
   "cell_type": "markdown",
   "metadata": {},
   "source": [
    "## 2. Lancement des notebooks\n",
    "Lancement des notebooks à partir de l'onglet principal de l'application (URL dans console d'activité) :\n",
    "- A partir d'un notebook existant :  \n",
    "*navigateur jupiter → se placer dans le répertoire du notebook -> cliquer sur le fichier*\n",
    "\n",
    "\n",
    "- Création d'un nouveau notebook :  \n",
    "*créer → choix du langage de programmation associé*\n"
   ]
  },
  {
   "cell_type": "markdown",
   "metadata": {},
   "source": [
    "## 3. Gestion des cellules\n",
    "Quand on se place sur une cellule, on peut être en mode :\n",
    "- Sélection (cadre bleu) pour insérer, copier, supprimer des cellules\n",
    "- Ecriture (cadre vert) pour saisir du code ou du texte\n",
    "\n",
    "\n",
    "Liste des principaux raccourcis :\n",
    "- Run one cell and go to the next one → *Shift + Enter*\n",
    "- Run one cell and stay on the same cell → *Ctrl + Enter*\n",
    "- Go from Edit mode (Green cell) to Select mode (Blue cell) → *Escape*\n",
    "- Go from Select mode (Blue cell) to Edit mode (Green cell) → *Enter*\n",
    "- Add a cell below the current cell → *Select mode + \"b\"*\n",
    "- Add a cell above the current cell → *Select mode + \"a\"*\n",
    "- Delete a cell → *Select mode + \"dd\"*\n",
    "- Cut/Copy/Paste → *Select mode + \"x\"/\"c\"/\"v\"*\n",
    "- Convert a cell from code to markdown → *Select mode + \"m\"*\n",
    "- Convert a cell from mardown to cell → *Select mode + \"y\"*\n",
    "- Selecting several cells → *Select mode + Shift + arrow up/down*"
   ]
  },
  {
   "cell_type": "markdown",
   "metadata": {},
   "source": [
    "## 4. Cellules de code\n",
    "Elle contiennent le code qui est évalué par un noyau choisi lors de la création du notebook.  \n",
    "L'évaluation se fait :\n",
    "- par le menu *Cell*, on peut évaluer une cellule ou toutes les cellules\n",
    "- Par raccourci **ctrl+enter** pour évaluer la cellule active\n",
    "\n",
    "Le partitionnement en cellules permet de tester le code par bloc, et d'identifier les erreurs éventuels."
   ]
  },
  {
   "cell_type": "code",
   "execution_count": 1,
   "metadata": {},
   "outputs": [
    {
     "data": {
      "text/plain": [
       "1.4142135623730951"
      ]
     },
     "execution_count": 1,
     "metadata": {},
     "output_type": "execute_result"
    }
   ],
   "source": [
    "# import librairie et calcul\n",
    "import math\n",
    "math.sqrt(2)"
   ]
  },
  {
   "cell_type": "markdown",
   "metadata": {},
   "source": [
    "Plusieurs langages de programmation peuvent être executés sous jupyter, dont python, R, java, Julia ..  \n",
    "\n",
    "On peut connaitre la liste des languages installés pour jupyter, que l'on nomme **kernel / noyau**  \n",
    "avec la ligne de commande ``jupyter kernelspec list``\n",
    "\n",
    "Pour supprimer un noyau (par ex: obsolete) : ``jupyter kernelspec uninstall <kernel_name>``"
   ]
  },
  {
   "cell_type": "markdown",
   "metadata": {},
   "source": [
    "## 5. Cellules mardown\n",
    "Elles permettent de saisir du texte, que l'on peut formatter :\n",
    "- `#`, `##`, `###`, `####` pour les titres et sous titres \n",
    "\n",
    "\n",
    "- `**text**` $\\rightarrow$ **text** pour mettre en gras\n",
    "\n",
    "\n",
    "- `*text*` $\\rightarrow$ *text* pour mettre en italique\n",
    "\n",
    "Il est également possible de saisir du HTML :\n",
    "\n",
    "- \n",
    "`<span style=\"color:red\">text</span>` $\\rightarrow$ <span style=\"color:red\">text</span>\n",
    "\n",
    "Insertion d'images :\n",
    "- `<img src=\"data/jupyter.png\" width=\"500\">` <img src=\"data/jupyter.png\" width=\"500\">\n",
    "\n",
    "Insertion de code : mettre en début et fin de bloc **<code\\>** **</code\\>** ou **\\`\\`**\n",
    "\n",
    "Insertion de code du noyau avec couleurs :\n",
    "```python \n",
    "def func(x)\n",
    "    return x ** 2\n",
    "```"
   ]
  },
  {
   "cell_type": "markdown",
   "metadata": {},
   "source": [
    "## 6. LaTeX pour les formules mathématiques\n",
    "\n",
    "**Formule Taylor-Young**\n",
    "\n",
    "Pour fonction $f$ sur intervalle $I$ et $a \\in I$  \n",
    "\n",
    "$\\begin{align}\n",
    "f(a+h)\n",
    "&= f(a) + \\cfrac{f^{(1)}(a)}{1!}(h) + \\cfrac{f^{(2)}(a)}{2!}(h)^2 + .. + r_n(h) \\\\\n",
    "&= \\sum_{k=0}^n \\cfrac{f^{(k)}(a)}{k!}(h)^k + r_k(h)\n",
    "\\end{align}$\n",
    "\n",
    "Avec le reste $r_k$, fonction négligeable par rapport à $h^n$ au voisinage de $a$"
   ]
  },
  {
   "cell_type": "markdown",
   "metadata": {},
   "source": [
    "## 7. Formats de sauvegarde\n",
    "Les notebooks sont des fichiers _*.ipynb_ , ayant une structure json.\n",
    "\n",
    "Il peuvent être sauvegardés sous d'autres formats, dont :\n",
    "- fichiers de script dans langage du noyau (*.py, *.r, ..)\n",
    "- fichiers *.pdf\n",
    "- fichiers .html\n",
    "- autres (voir *File -> Download As*)"
   ]
  }
 ],
 "metadata": {
  "kernelspec": {
   "display_name": "Python 3",
   "language": "python",
   "name": "python3"
  },
  "language_info": {
   "codemirror_mode": {
    "name": "ipython",
    "version": 3
   },
   "file_extension": ".py",
   "mimetype": "text/x-python",
   "name": "python",
   "nbconvert_exporter": "python",
   "pygments_lexer": "ipython3",
   "version": "3.7.8"
  },
  "toc": {
   "base_numbering": 1,
   "nav_menu": {
    "height": "186px",
    "width": "414px"
   },
   "number_sections": true,
   "sideBar": true,
   "skip_h1_title": false,
   "title_cell": "Table of Contents",
   "title_sidebar": "Contents",
   "toc_cell": false,
   "toc_position": {},
   "toc_section_display": true,
   "toc_window_display": false
  }
 },
 "nbformat": 4,
 "nbformat_minor": 2
}
